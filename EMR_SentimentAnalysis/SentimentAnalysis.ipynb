{
 "cells": [
  {
   "cell_type": "code",
   "execution_count": null,
   "metadata": {
    "vscode": {
     "languageId": "python"
    }
   },
   "outputs": [
    {
     "data": {
      "application/vnd.jupyter.widget-view+json": {
       "model_id": "79b32c18206e407797c193e5128df35f",
       "version_major": 2,
       "version_minor": 0
      },
      "text/plain": [
       "VBox()"
      ]
     },
     "metadata": {},
     "output_type": "display_data"
    },
    {
     "name": "stdout",
     "output_type": "stream",
     "text": [
      "Starting Spark application\n"
     ]
    },
    {
     "data": {
      "text/html": [
       "<table>\n",
       "<tbody><tr><th>ID</th><th>YARN Application ID</th><th>Kind</th><th>State</th><th>Spark UI</th><th>Driver log</th><th>User</th><th>Current session?</th></tr><tr><td>0</td><td>application_1701298805849_0001</td><td>pyspark</td><td>idle</td><td><a target=\"_blank\" href=\"http://ip-10-0-23-73.ec2.internal:20888/proxy/application_1701298805849_0001/\" class=\"emr-proxy-link j-369FI54AD8U2M application_1701298805849_0001\" emr-resource=\"j-369FI54AD8U2M\n",
       "\" application-id=\"application_1701298805849_0001\">Link</a></td><td><a target=\"_blank\" href=\"http://ip-10-0-31-170.ec2.internal:8042/node/containerlogs/container_1701298805849_0001_01_000001/livy\">Link</a></td><td>None</td><td>✔</td></tr></tbody></table>"
      ],
      "text/plain": [
       "<IPython.core.display.HTML object>"
      ]
     },
     "metadata": {},
     "output_type": "display_data"
    },
    {
     "data": {
      "application/vnd.jupyter.widget-view+json": {
       "model_id": "",
       "version_major": 2,
       "version_minor": 0
      },
      "text/plain": [
       "FloatProgress(value=0.0, bar_style='info', description='Progress:', layout=Layout(height='25px', width='50%'),…"
      ]
     },
     "metadata": {},
     "output_type": "display_data"
    },
    {
     "name": "stdout",
     "output_type": "stream",
     "text": [
      "SparkSession available as 'spark'.\n"
     ]
    },
    {
     "data": {
      "application/vnd.jupyter.widget-view+json": {
       "model_id": "",
       "version_major": 2,
       "version_minor": 0
      },
      "text/plain": [
       "FloatProgress(value=0.0, bar_style='info', description='Progress:', layout=Layout(height='25px', width='50%'),…"
      ]
     },
     "metadata": {},
     "output_type": "display_data"
    }
   ],
   "source": [
    "from pyspark.sql import SparkSession\n",
    "from pyspark.sql.functions import col\n"
   ]
  },
  {
   "cell_type": "code",
   "execution_count": null,
   "metadata": {
    "vscode": {
     "languageId": "python"
    }
   },
   "outputs": [
    {
     "data": {
      "application/vnd.jupyter.widget-view+json": {
       "model_id": "3331c0f42c0b4de597d43b3f6fac1c74",
       "version_major": 2,
       "version_minor": 0
      },
      "text/plain": [
       "VBox()"
      ]
     },
     "metadata": {},
     "output_type": "display_data"
    },
    {
     "data": {
      "application/vnd.jupyter.widget-view+json": {
       "model_id": "",
       "version_major": 2,
       "version_minor": 0
      },
      "text/plain": [
       "FloatProgress(value=0.0, bar_style='info', description='Progress:', layout=Layout(height='25px', width='50%'),…"
      ]
     },
     "metadata": {},
     "output_type": "display_data"
    }
   ],
   "source": [
    "spark = SparkSession.builder.appName(\"YelpAnalysis\").getOrCreate()"
   ]
  },
  {
   "cell_type": "code",
   "execution_count": null,
   "metadata": {
    "vscode": {
     "languageId": "python"
    }
   },
   "outputs": [
    {
     "data": {
      "application/vnd.jupyter.widget-view+json": {
       "model_id": "a342ea10bb8a4567a2acab60c4fe50f6",
       "version_major": 2,
       "version_minor": 0
      },
      "text/plain": [
       "VBox()"
      ]
     },
     "metadata": {},
     "output_type": "display_data"
    },
    {
     "data": {
      "application/vnd.jupyter.widget-view+json": {
       "model_id": "",
       "version_major": 2,
       "version_minor": 0
      },
      "text/plain": [
       "FloatProgress(value=0.0, bar_style='info', description='Progress:', layout=Layout(height='25px', width='50%'),…"
      ]
     },
     "metadata": {},
     "output_type": "display_data"
    },
    {
     "name": "stdout",
     "output_type": "stream",
     "text": [
      "+--------------------+--------------------+-----+--------------------+-------------------+\n",
      "|           review_id|         business_id|stars|                text|               date|\n",
      "+--------------------+--------------------+-----+--------------------+-------------------+\n",
      "|6AUbwLYs9RJG_mqvd...|OJEiB_a2I_gxC-Zea...|  3.0|The food was good...|2020-01-16 17:37:40|\n",
      "|01YL43edpWZ1oOBp-...|B0WkL720J0N6PjQPm...|  5.0|My son has been g...|2020-01-22 03:16:59|\n",
      "|FoIQOYlkg1cycFit8...|Ct_g_xmNh1wvpfTD-...|  5.0|Good place for ph...|2020-03-14 14:03:10|\n",
      "|V7Qoi8KjZSE_k_-GS...|3qpubK1C8SsDcq8Be...|  5.0|My boyfriend and ...|2018-08-16 23:55:31|\n",
      "|fXTW03d-GaZrkYj4D...|gXiWHYBuPLWWXZJPO...|  5.0|No complaints alt...|2019-11-09 21:42:15|\n",
      "|Al__qgTzik2s4H76B...|diESSke07mVElwq0p...|  5.0|Dr. DeBruin is a ...|2019-03-07 23:14:19|\n",
      "|YPC1kwi8wZ_BhkYv7...|v3OZ36tMFyAuQiqaY...|  1.0|The man who took ...|2012-05-31 15:09:23|\n",
      "|ngK7--8PaU5QQJvyS...|Q2VFD1n1THRsSnAD_...|  1.0|I wouldn't even g...|2019-12-05 02:17:14|\n",
      "|SgGQoZWjvdEHfnJtw...|x063XOQJCfTsKvS7i...|  1.0|I am a fellow mag...|2020-06-20 13:26:03|\n",
      "|_TymksTaU5VXdXfXz...|ebXFHyu6NmW17YAnD...|  5.0|Jack's Popcorn is...|2020-05-08 03:21:46|\n",
      "|kT7SdkszC4NJySjDq...|AbUMLNaW9DzYelM4A...|  5.0|Some of the best ...|2020-03-05 17:44:51|\n",
      "|C4w0eac62bW6U2Cby...|uZto1WCFkN2_5Ie0E...|  1.0|Love this bar and...|2018-08-05 05:07:32|\n",
      "|asG3ph_XnPUsGx_g9...|ZDdNEwBENLXBT3jjQ...|  4.0|I came here for a...|2020-02-10 17:34:28|\n",
      "|L85BDr4LBorPBBywk...|i_FWONQD1ZBqrNE2b...|  2.0|I came here Satur...|2016-06-03 14:34:07|\n",
      "|kg8CeZpCWLADeP6cA...|5RN4m3XO66jK4ThoD...|  4.0|I am a fan!\\n\\nMy...|2016-06-14 23:41:46|\n",
      "|R5CDY6ILsai7B3W3C...|ybPtJfBUfhlXE-rCR...|  4.0|The salads are ex...|2020-03-14 12:42:30|\n",
      "|krgSnYcQyB8rTKF6q...|SHYPQbYqbfK4CwTDj...|  5.0|I bought the doug...|2019-05-23 23:25:57|\n",
      "|vFyoT0WfKEallCufP...|L-icd2tQI8QwKxBvJ...|  5.0|This place is sup...|2016-03-15 13:51:54|\n",
      "|2yMrf944-IzBEyQFI...|NlIzmzJUS-9kn1oxx...|  5.0|Place is awesome....|2018-06-18 20:54:49|\n",
      "|zuo56nKcaxOJaeSwX...|MKfdvSIBmpb_u_I7O...|  1.0|SOOO DISAPPOINTIN...|2020-02-16 02:16:31|\n",
      "+--------------------+--------------------+-----+--------------------+-------------------+\n",
      "only showing top 20 rows"
     ]
    }
   ],
   "source": [
    "s3_path = \"s3://myyelpdataset/Outputs/Reviews/Parquet/\"\n",
    "\n",
    "# Read the Parquet file into a DataFrame\n",
    "df = spark.read.parquet(s3_path)\n",
    "df.show()"
   ]
  },
  {
   "cell_type": "code",
   "execution_count": null,
   "metadata": {
    "vscode": {
     "languageId": "python"
    }
   },
   "outputs": [
    {
     "data": {
      "application/vnd.jupyter.widget-view+json": {
       "model_id": "1ce4ed40faac41dea52f0289a1b18de7",
       "version_major": 2,
       "version_minor": 0
      },
      "text/plain": [
       "VBox()"
      ]
     },
     "metadata": {},
     "output_type": "display_data"
    },
    {
     "data": {
      "application/vnd.jupyter.widget-view+json": {
       "model_id": "",
       "version_major": 2,
       "version_minor": 0
      },
      "text/plain": [
       "FloatProgress(value=0.0, bar_style='info', description='Progress:', layout=Layout(height='25px', width='50%'),…"
      ]
     },
     "metadata": {},
     "output_type": "display_data"
    },
    {
     "name": "stdout",
     "output_type": "stream",
     "text": [
      "root\n",
      " |-- review_id: string (nullable = true)\n",
      " |-- business_id: string (nullable = true)\n",
      " |-- stars: double (nullable = true)\n",
      " |-- text: string (nullable = true)\n",
      " |-- date: string (nullable = true)"
     ]
    }
   ],
   "source": [
    "df.printSchema()"
   ]
  },
  {
   "cell_type": "code",
   "execution_count": null,
   "metadata": {
    "vscode": {
     "languageId": "python"
    }
   },
   "outputs": [
    {
     "data": {
      "application/vnd.jupyter.widget-view+json": {
       "model_id": "64e494be29b74e2e831aeecb625f9087",
       "version_major": 2,
       "version_minor": 0
      },
      "text/plain": [
       "VBox()"
      ]
     },
     "metadata": {},
     "output_type": "display_data"
    },
    {
     "data": {
      "application/vnd.jupyter.widget-view+json": {
       "model_id": "",
       "version_major": 2,
       "version_minor": 0
      },
      "text/plain": [
       "FloatProgress(value=0.0, bar_style='info', description='Progress:', layout=Layout(height='25px', width='50%'),…"
      ]
     },
     "metadata": {},
     "output_type": "display_data"
    },
    {
     "name": "stdout",
     "output_type": "stream",
     "text": [
      "Collecting textblob\n",
      "  Downloading textblob-0.17.1-py2.py3-none-any.whl (636 kB)\n",
      "Requirement already satisfied: nltk>=3.1; python_version >= \"3\" in /usr/local/lib/python3.7/site-packages (from textblob) (3.8.1)\n",
      "Requirement already satisfied: click in /usr/local/lib64/python3.7/site-packages (from nltk>=3.1; python_version >= \"3\"->textblob) (8.1.7)\n",
      "Requirement already satisfied: joblib in /usr/local/lib64/python3.7/site-packages (from nltk>=3.1; python_version >= \"3\"->textblob) (1.3.2)\n",
      "Requirement already satisfied: regex>=2021.8.3 in /usr/local/lib64/python3.7/site-packages (from nltk>=3.1; python_version >= \"3\"->textblob) (2021.11.10)\n",
      "Requirement already satisfied: tqdm in /usr/local/lib64/python3.7/site-packages (from nltk>=3.1; python_version >= \"3\"->textblob) (4.66.1)\n",
      "Collecting importlib-metadata; python_version < \"3.8\"\n",
      "  Downloading importlib_metadata-6.7.0-py3-none-any.whl (22 kB)\n",
      "Collecting typing-extensions>=3.6.4; python_version < \"3.8\"\n",
      "  Downloading typing_extensions-4.7.1-py3-none-any.whl (33 kB)\n",
      "Collecting zipp>=0.5\n",
      "  Downloading zipp-3.15.0-py3-none-any.whl (6.8 kB)\n",
      "Installing collected packages: textblob, typing-extensions, zipp, importlib-metadata\n",
      "Successfully installed importlib-metadata-6.7.0 textblob-0.17.1 typing-extensions-4.7.1 zipp-3.15.0\n",
      "\n",
      "WARNING: The directory '/home/.cache/pip' or its parent directory is not owned or is not writable by the current user. The cache has been disabled. Check the permissions and owner of that directory. If executing pip with sudo, you may want sudo's -H flag."
     ]
    }
   ],
   "source": [
    "sc.install_pypi_package(\"textblob\")"
   ]
  },
  {
   "cell_type": "code",
   "execution_count": null,
   "metadata": {
    "vscode": {
     "languageId": "python"
    }
   },
   "outputs": [
    {
     "data": {
      "application/vnd.jupyter.widget-view+json": {
       "model_id": "5f0b60a82fbf45caa383a570ccb2625d",
       "version_major": 2,
       "version_minor": 0
      },
      "text/plain": [
       "VBox()"
      ]
     },
     "metadata": {},
     "output_type": "display_data"
    },
    {
     "data": {
      "application/vnd.jupyter.widget-view+json": {
       "model_id": "",
       "version_major": 2,
       "version_minor": 0
      },
      "text/plain": [
       "FloatProgress(value=0.0, bar_style='info', description='Progress:', layout=Layout(height='25px', width='50%'),…"
      ]
     },
     "metadata": {},
     "output_type": "display_data"
    },
    {
     "name": "stdout",
     "output_type": "stream",
     "text": [
      "+--------------------+--------------------+----+-----+---+\n",
      "|         business_id|                text|year|month|day|\n",
      "+--------------------+--------------------+----+-----+---+\n",
      "|OJEiB_a2I_gxC-Zea...|The food was good...|2020|    1| 16|\n",
      "|B0WkL720J0N6PjQPm...|My son has been g...|2020|    1| 22|\n",
      "|Ct_g_xmNh1wvpfTD-...|Good place for ph...|2020|    3| 14|\n",
      "|3qpubK1C8SsDcq8Be...|My boyfriend and ...|2018|    8| 16|\n",
      "|gXiWHYBuPLWWXZJPO...|No complaints alt...|2019|   11|  9|\n",
      "+--------------------+--------------------+----+-----+---+\n",
      "only showing top 5 rows"
     ]
    }
   ],
   "source": [
    "from pyspark.sql.functions import year, month, dayofmonth, to_date\n",
    "\n",
    "# Assuming 'date' is a string column\n",
    "df = df.withColumn('date', to_date(col('date'), 'yyyy-MM-dd HH:mm:ss'))\n",
    "\n",
    "# Extracting components\n",
    "df = df.withColumn('year', year(df['date']))\n",
    "df = df.withColumn('month', month(df['date']))\n",
    "df = df.withColumn('day', dayofmonth(df['date']))\n",
    "\n",
    "# Show results\n",
    "df.select(\"business_id\", \"text\", \"year\", \"month\", \"day\").show(5)"
   ]
  },
  {
   "cell_type": "markdown",
   "metadata": {},
   "source": [
    "This is identified Top restaurant with best Average rating - Ruby Slipper - New Orleans"
   ]
  },
  {
   "cell_type": "code",
   "execution_count": null,
   "metadata": {
    "vscode": {
     "languageId": "python"
    }
   },
   "outputs": [
    {
     "data": {
      "application/vnd.jupyter.widget-view+json": {
       "model_id": "4e338351289b467a8242ae03c8d9a9d9",
       "version_major": 2,
       "version_minor": 0
      },
      "text/plain": [
       "VBox()"
      ]
     },
     "metadata": {},
     "output_type": "display_data"
    },
    {
     "data": {
      "application/vnd.jupyter.widget-view+json": {
       "model_id": "",
       "version_major": 2,
       "version_minor": 0
      },
      "text/plain": [
       "FloatProgress(value=0.0, bar_style='info', description='Progress:', layout=Layout(height='25px', width='50%'),…"
      ]
     },
     "metadata": {},
     "output_type": "display_data"
    }
   ],
   "source": [
    "df_top = df.filter((df['business_id'] == 'oBNrLz4EDhiscSlbOl8uAw'))"
   ]
  },
  {
   "cell_type": "code",
   "execution_count": null,
   "metadata": {
    "vscode": {
     "languageId": "python"
    }
   },
   "outputs": [
    {
     "data": {
      "application/vnd.jupyter.widget-view+json": {
       "model_id": "c7f9acb787a44448aad23b90b7c3ad4e",
       "version_major": 2,
       "version_minor": 0
      },
      "text/plain": [
       "VBox()"
      ]
     },
     "metadata": {},
     "output_type": "display_data"
    },
    {
     "data": {
      "application/vnd.jupyter.widget-view+json": {
       "model_id": "",
       "version_major": 2,
       "version_minor": 0
      },
      "text/plain": [
       "FloatProgress(value=0.0, bar_style='info', description='Progress:', layout=Layout(height='25px', width='50%'),…"
      ]
     },
     "metadata": {},
     "output_type": "display_data"
    }
   ],
   "source": [
    "df_top = df_top.drop('review_id', 'date', 'month', 'day')"
   ]
  },
  {
   "cell_type": "code",
   "execution_count": null,
   "metadata": {
    "vscode": {
     "languageId": "python"
    }
   },
   "outputs": [
    {
     "data": {
      "application/vnd.jupyter.widget-view+json": {
       "model_id": "966f0d1891d24c328a0d089a5091a228",
       "version_major": 2,
       "version_minor": 0
      },
      "text/plain": [
       "VBox()"
      ]
     },
     "metadata": {},
     "output_type": "display_data"
    },
    {
     "data": {
      "application/vnd.jupyter.widget-view+json": {
       "model_id": "",
       "version_major": 2,
       "version_minor": 0
      },
      "text/plain": [
       "FloatProgress(value=0.0, bar_style='info', description='Progress:', layout=Layout(height='25px', width='50%'),…"
      ]
     },
     "metadata": {},
     "output_type": "display_data"
    },
    {
     "name": "stdout",
     "output_type": "stream",
     "text": [
      "+--------------------+-----+--------------------+----+\n",
      "|         business_id|stars|                text|year|\n",
      "+--------------------+-----+--------------------+----+\n",
      "|oBNrLz4EDhiscSlbO...|  4.0|Went in for break...|2017|\n",
      "|oBNrLz4EDhiscSlbO...|  5.0|I'm glad we tried...|2018|\n",
      "|oBNrLz4EDhiscSlbO...|  2.0|My boyfriend had ...|2015|\n",
      "|oBNrLz4EDhiscSlbO...|  4.0|The Ruby Slipper ...|2015|\n",
      "|oBNrLz4EDhiscSlbO...|  1.0|This place has th...|2018|\n",
      "+--------------------+-----+--------------------+----+\n",
      "only showing top 5 rows"
     ]
    }
   ],
   "source": [
    "df_top.show(5)"
   ]
  },
  {
   "cell_type": "code",
   "execution_count": null,
   "metadata": {
    "vscode": {
     "languageId": "python"
    }
   },
   "outputs": [
    {
     "data": {
      "application/vnd.jupyter.widget-view+json": {
       "model_id": "f52675bd297e43dbb3280af6a9b7ace6",
       "version_major": 2,
       "version_minor": 0
      },
      "text/plain": [
       "VBox()"
      ]
     },
     "metadata": {},
     "output_type": "display_data"
    },
    {
     "data": {
      "application/vnd.jupyter.widget-view+json": {
       "model_id": "",
       "version_major": 2,
       "version_minor": 0
      },
      "text/plain": [
       "FloatProgress(value=0.0, bar_style='info', description='Progress:', layout=Layout(height='25px', width='50%'),…"
      ]
     },
     "metadata": {},
     "output_type": "display_data"
    },
    {
     "name": "stdout",
     "output_type": "stream",
     "text": [
      "+----+-----------------+\n",
      "|year|       avg(stars)|\n",
      "+----+-----------------+\n",
      "|2010|            4.375|\n",
      "|2011|3.878787878787879|\n",
      "|2012|              4.0|\n",
      "|2013|3.865168539325843|\n",
      "|2014|4.140672782874618|\n",
      "|2015|4.231388329979879|\n",
      "|2016|4.258652094717669|\n",
      "|2017|4.327844311377246|\n",
      "|2018|4.253968253968254|\n",
      "|2019|4.394444444444445|\n",
      "|2020|4.522184300341297|\n",
      "|2021|4.419062027231467|\n",
      "|2022|4.703703703703703|\n",
      "+----+-----------------+"
     ]
    }
   ],
   "source": [
    "# Check the distribution of stars for different years\n",
    "df_top.groupBy('year').agg({'stars': 'mean'}).orderBy('year').show()\n"
   ]
  },
  {
   "cell_type": "code",
   "execution_count": null,
   "metadata": {
    "vscode": {
     "languageId": "python"
    }
   },
   "outputs": [
    {
     "data": {
      "application/vnd.jupyter.widget-view+json": {
       "model_id": "43347520c8ba41e7b05f108d9ecac01c",
       "version_major": 2,
       "version_minor": 0
      },
      "text/plain": [
       "VBox()"
      ]
     },
     "metadata": {},
     "output_type": "display_data"
    },
    {
     "data": {
      "application/vnd.jupyter.widget-view+json": {
       "model_id": "",
       "version_major": 2,
       "version_minor": 0
      },
      "text/plain": [
       "FloatProgress(value=0.0, bar_style='info', description='Progress:', layout=Layout(height='25px', width='50%'),…"
      ]
     },
     "metadata": {},
     "output_type": "display_data"
    }
   ],
   "source": [
    "from pyspark.sql import functions as F\n",
    "\n",
    "# Group by 'year' and count the reviews\n",
    "count_by_year = df_top.groupBy('year').agg(F.count('text').alias('review_count'))\n",
    "count_by_year_sorted = count_by_year.orderBy('year')"
   ]
  },
  {
   "cell_type": "code",
   "execution_count": null,
   "metadata": {
    "vscode": {
     "languageId": "python"
    }
   },
   "outputs": [
    {
     "data": {
      "application/vnd.jupyter.widget-view+json": {
       "model_id": "e2c0b6a443934ce183dceeef77603509",
       "version_major": 2,
       "version_minor": 0
      },
      "text/plain": [
       "VBox()"
      ]
     },
     "metadata": {},
     "output_type": "display_data"
    },
    {
     "data": {
      "application/vnd.jupyter.widget-view+json": {
       "model_id": "",
       "version_major": 2,
       "version_minor": 0
      },
      "text/plain": [
       "FloatProgress(value=0.0, bar_style='info', description='Progress:', layout=Layout(height='25px', width='50%'),…"
      ]
     },
     "metadata": {},
     "output_type": "display_data"
    },
    {
     "name": "stdout",
     "output_type": "stream",
     "text": [
      "+----+------------+\n",
      "|year|review_count|\n",
      "+----+------------+\n",
      "|2010|           8|\n",
      "|2011|          99|\n",
      "|2012|         112|\n",
      "|2013|         178|\n",
      "|2014|         327|\n",
      "|2015|         497|\n",
      "|2016|         549|\n",
      "|2017|         668|\n",
      "|2018|         945|\n",
      "|2019|         900|\n",
      "|2020|         293|\n",
      "|2021|         661|\n",
      "|2022|          27|\n",
      "+----+------------+"
     ]
    }
   ],
   "source": [
    "count_by_year_sorted.show()"
   ]
  },
  {
   "cell_type": "code",
   "execution_count": null,
   "metadata": {
    "vscode": {
     "languageId": "python"
    }
   },
   "outputs": [
    {
     "data": {
      "application/vnd.jupyter.widget-view+json": {
       "model_id": "a151e219984e4b01bd664a9a1575a316",
       "version_major": 2,
       "version_minor": 0
      },
      "text/plain": [
       "VBox()"
      ]
     },
     "metadata": {},
     "output_type": "display_data"
    },
    {
     "data": {
      "application/vnd.jupyter.widget-view+json": {
       "model_id": "",
       "version_major": 2,
       "version_minor": 0
      },
      "text/plain": [
       "FloatProgress(value=0.0, bar_style='info', description='Progress:', layout=Layout(height='25px', width='50%'),…"
      ]
     },
     "metadata": {},
     "output_type": "display_data"
    }
   ],
   "source": [
    "df_top.write.parquet(\"s3://myyelpdataset/EMR_Sentiment_Analysis/top/allyear/\", mode=\"overwrite\")"
   ]
  },
  {
   "cell_type": "code",
   "execution_count": null,
   "metadata": {
    "vscode": {
     "languageId": "python"
    }
   },
   "outputs": [
    {
     "data": {
      "application/vnd.jupyter.widget-view+json": {
       "model_id": "3f7970d890e345b2924a988da4f84ce3",
       "version_major": 2,
       "version_minor": 0
      },
      "text/plain": [
       "VBox()"
      ]
     },
     "metadata": {},
     "output_type": "display_data"
    },
    {
     "data": {
      "application/vnd.jupyter.widget-view+json": {
       "model_id": "",
       "version_major": 2,
       "version_minor": 0
      },
      "text/plain": [
       "FloatProgress(value=0.0, bar_style='info', description='Progress:', layout=Layout(height='25px', width='50%'),…"
      ]
     },
     "metadata": {},
     "output_type": "display_data"
    },
    {
     "name": "stdout",
     "output_type": "stream",
     "text": [
      "+--------------------+-----+--------------------+----+\n",
      "|         business_id|stars|                text|year|\n",
      "+--------------------+-----+--------------------+----+\n",
      "|oBNrLz4EDhiscSlbO...|  1.0|The waitress is v...|2021|\n",
      "|oBNrLz4EDhiscSlbO...|  5.0|Visiting Ruby Sli...|2021|\n",
      "|oBNrLz4EDhiscSlbO...|  5.0|Always delicious ...|2021|\n",
      "|oBNrLz4EDhiscSlbO...|  1.0|Im\\nSure its grea...|2021|\n",
      "|oBNrLz4EDhiscSlbO...|  5.0|Nicole at the bar...|2021|\n",
      "+--------------------+-----+--------------------+----+\n",
      "only showing top 5 rows"
     ]
    }
   ],
   "source": [
    "# Filter for years after 2020\n",
    "df_top_filtered= df_top.filter(df_top['year'] > 2020)\n",
    "df_top_filtered.show(5)"
   ]
  },
  {
   "cell_type": "code",
   "execution_count": null,
   "metadata": {
    "vscode": {
     "languageId": "python"
    }
   },
   "outputs": [
    {
     "data": {
      "application/vnd.jupyter.widget-view+json": {
       "model_id": "b08fe7481451432ba8210c0044253eb9",
       "version_major": 2,
       "version_minor": 0
      },
      "text/plain": [
       "VBox()"
      ]
     },
     "metadata": {},
     "output_type": "display_data"
    },
    {
     "data": {
      "application/vnd.jupyter.widget-view+json": {
       "model_id": "",
       "version_major": 2,
       "version_minor": 0
      },
      "text/plain": [
       "FloatProgress(value=0.0, bar_style='info', description='Progress:', layout=Layout(height='25px', width='50%'),…"
      ]
     },
     "metadata": {},
     "output_type": "display_data"
    }
   ],
   "source": [
    "from pyspark.sql.functions import udf, col\n",
    "from pyspark.sql.types import DoubleType, StringType\n",
    "from textblob import TextBlob\n",
    "\n",
    "# Function for sentiment analysis using TextBlob\n",
    "def detect_sentiment(text):\n",
    "    analysis = TextBlob(text)\n",
    "    return analysis.sentiment.polarity\n",
    "\n",
    "# Register UDF\n",
    "sentiment_udf = udf(detect_sentiment, DoubleType())\n",
    "\n",
    "# Calculate sentiment score\n",
    "def sentiment_score(polarity):\n",
    "    if polarity > 0:\n",
    "        return 'POSITIVE'\n",
    "    elif polarity < 0:\n",
    "        return 'NEGATIVE'\n",
    "    else:\n",
    "        return 'NEUTRAL'\n",
    "\n",
    "score_udf = udf(sentiment_score, StringType())"
   ]
  },
  {
   "cell_type": "code",
   "execution_count": null,
   "metadata": {
    "vscode": {
     "languageId": "python"
    }
   },
   "outputs": [
    {
     "data": {
      "application/vnd.jupyter.widget-view+json": {
       "model_id": "b8a892ae4e804e31ac3a55e7e9143298",
       "version_major": 2,
       "version_minor": 0
      },
      "text/plain": [
       "VBox()"
      ]
     },
     "metadata": {},
     "output_type": "display_data"
    },
    {
     "data": {
      "application/vnd.jupyter.widget-view+json": {
       "model_id": "",
       "version_major": 2,
       "version_minor": 0
      },
      "text/plain": [
       "FloatProgress(value=0.0, bar_style='info', description='Progress:', layout=Layout(height='25px', width='50%'),…"
      ]
     },
     "metadata": {},
     "output_type": "display_data"
    },
    {
     "name": "stdout",
     "output_type": "stream",
     "text": [
      "+--------------------+-----+--------------------+----+------------------+---------+\n",
      "|         business_id|stars|                text|year|          polarity|sentiment|\n",
      "+--------------------+-----+--------------------+----+------------------+---------+\n",
      "|oBNrLz4EDhiscSlbO...|  1.0|The waitress is v...|2021|0.0688888888888889| POSITIVE|\n",
      "|oBNrLz4EDhiscSlbO...|  5.0|Visiting Ruby Sli...|2021|0.5928571428571429| POSITIVE|\n",
      "|oBNrLz4EDhiscSlbO...|  5.0|Always delicious ...|2021|0.5116666666666666| POSITIVE|\n",
      "|oBNrLz4EDhiscSlbO...|  1.0|Im\\nSure its grea...|2021|               0.6| POSITIVE|\n",
      "|oBNrLz4EDhiscSlbO...|  5.0|Nicole at the bar...|2021|               0.8| POSITIVE|\n",
      "+--------------------+-----+--------------------+----+------------------+---------+\n",
      "only showing top 5 rows"
     ]
    }
   ],
   "source": [
    "# Apply sentiment analysis using TextBlob\n",
    "df_with_sentiment = df_top_filtered.withColumn(\"polarity\", sentiment_udf(col(\"text\")))\n",
    "df_final = df_with_sentiment.withColumn(\"sentiment\", score_udf(col(\"polarity\")))\n",
    "\n",
    "# Show results\n",
    "df_final.show(5)"
   ]
  },
  {
   "cell_type": "code",
   "execution_count": null,
   "metadata": {
    "vscode": {
     "languageId": "python"
    }
   },
   "outputs": [
    {
     "data": {
      "application/vnd.jupyter.widget-view+json": {
       "model_id": "07b43e4313c34ed1ae8483fd37c4394d",
       "version_major": 2,
       "version_minor": 0
      },
      "text/plain": [
       "VBox()"
      ]
     },
     "metadata": {},
     "output_type": "display_data"
    },
    {
     "data": {
      "application/vnd.jupyter.widget-view+json": {
       "model_id": "",
       "version_major": 2,
       "version_minor": 0
      },
      "text/plain": [
       "FloatProgress(value=0.0, bar_style='info', description='Progress:', layout=Layout(height='25px', width='50%'),…"
      ]
     },
     "metadata": {},
     "output_type": "display_data"
    }
   ],
   "source": [
    "df_final.write.option(\"header\", \"true\").mode(\"overwrite\").csv(\"s3://myyelpdataset/EMR_Sentiment_Analysis/top/prqt/\")"
   ]
  },
  {
   "cell_type": "code",
   "execution_count": null,
   "metadata": {
    "vscode": {
     "languageId": "python"
    }
   },
   "outputs": [
    {
     "data": {
      "application/vnd.jupyter.widget-view+json": {
       "model_id": "500d8c1a0055481d9904b0f0190f76fa",
       "version_major": 2,
       "version_minor": 0
      },
      "text/plain": [
       "VBox()"
      ]
     },
     "metadata": {},
     "output_type": "display_data"
    },
    {
     "data": {
      "application/vnd.jupyter.widget-view+json": {
       "model_id": "",
       "version_major": 2,
       "version_minor": 0
      },
      "text/plain": [
       "FloatProgress(value=0.0, bar_style='info', description='Progress:', layout=Layout(height='25px', width='50%'),…"
      ]
     },
     "metadata": {},
     "output_type": "display_data"
    }
   ],
   "source": [
    "df_final.write.parquet(\"s3://myyelpdataset/EMR_Sentiment_Analysis/top/prqt/\", mode=\"overwrite\")"
   ]
  },
  {
   "cell_type": "markdown",
   "metadata": {},
   "source": [
    "This is identified as restaurant with can be improved w.r.t Average rating - Burbon House - New Orleans"
   ]
  },
  {
   "cell_type": "code",
   "execution_count": null,
   "metadata": {
    "vscode": {
     "languageId": "python"
    }
   },
   "outputs": [
    {
     "data": {
      "application/vnd.jupyter.widget-view+json": {
       "model_id": "0ed5c79ef2bd4aacbdd834c9c3087283",
       "version_major": 2,
       "version_minor": 0
      },
      "text/plain": [
       "VBox()"
      ]
     },
     "metadata": {},
     "output_type": "display_data"
    },
    {
     "data": {
      "application/vnd.jupyter.widget-view+json": {
       "model_id": "",
       "version_major": 2,
       "version_minor": 0
      },
      "text/plain": [
       "FloatProgress(value=0.0, bar_style='info', description='Progress:', layout=Layout(height='25px', width='50%'),…"
      ]
     },
     "metadata": {},
     "output_type": "display_data"
    }
   ],
   "source": [
    "df_sug = df.filter((df['business_id'] == 'iwmW2mgcn2YdirXUHCsgXQ'))"
   ]
  },
  {
   "cell_type": "code",
   "execution_count": null,
   "metadata": {
    "vscode": {
     "languageId": "python"
    }
   },
   "outputs": [
    {
     "data": {
      "application/vnd.jupyter.widget-view+json": {
       "model_id": "c6172512ceef43a6b803e6614f5a9581",
       "version_major": 2,
       "version_minor": 0
      },
      "text/plain": [
       "VBox()"
      ]
     },
     "metadata": {},
     "output_type": "display_data"
    },
    {
     "data": {
      "application/vnd.jupyter.widget-view+json": {
       "model_id": "",
       "version_major": 2,
       "version_minor": 0
      },
      "text/plain": [
       "FloatProgress(value=0.0, bar_style='info', description='Progress:', layout=Layout(height='25px', width='50%'),…"
      ]
     },
     "metadata": {},
     "output_type": "display_data"
    }
   ],
   "source": [
    "df_sug = df_sug.drop('review_id', 'date', 'month', 'day')"
   ]
  },
  {
   "cell_type": "code",
   "execution_count": null,
   "metadata": {
    "vscode": {
     "languageId": "python"
    }
   },
   "outputs": [
    {
     "data": {
      "application/vnd.jupyter.widget-view+json": {
       "model_id": "803665becac147b3897a87feacf042f5",
       "version_major": 2,
       "version_minor": 0
      },
      "text/plain": [
       "VBox()"
      ]
     },
     "metadata": {},
     "output_type": "display_data"
    },
    {
     "data": {
      "application/vnd.jupyter.widget-view+json": {
       "model_id": "",
       "version_major": 2,
       "version_minor": 0
      },
      "text/plain": [
       "FloatProgress(value=0.0, bar_style='info', description='Progress:', layout=Layout(height='25px', width='50%'),…"
      ]
     },
     "metadata": {},
     "output_type": "display_data"
    },
    {
     "name": "stdout",
     "output_type": "stream",
     "text": [
      "+--------------------+-----+--------------------+----+\n",
      "|         business_id|stars|                text|year|\n",
      "+--------------------+-----+--------------------+----+\n",
      "|iwmW2mgcn2YdirXUH...|  2.0|Came here for the...|2017|\n",
      "|iwmW2mgcn2YdirXUH...|  2.0|We ordered raw an...|2016|\n",
      "|iwmW2mgcn2YdirXUH...|  5.0|The drinks are we...|2018|\n",
      "|iwmW2mgcn2YdirXUH...|  4.0|I will never forg...|2017|\n",
      "|iwmW2mgcn2YdirXUH...|  4.0|Wonderful atmosph...|2017|\n",
      "+--------------------+-----+--------------------+----+\n",
      "only showing top 5 rows"
     ]
    }
   ],
   "source": [
    "df_sug.show(5)"
   ]
  },
  {
   "cell_type": "code",
   "execution_count": null,
   "metadata": {
    "vscode": {
     "languageId": "python"
    }
   },
   "outputs": [
    {
     "data": {
      "application/vnd.jupyter.widget-view+json": {
       "model_id": "f6d4590c40884cb2be47e198b481ce32",
       "version_major": 2,
       "version_minor": 0
      },
      "text/plain": [
       "VBox()"
      ]
     },
     "metadata": {},
     "output_type": "display_data"
    },
    {
     "data": {
      "application/vnd.jupyter.widget-view+json": {
       "model_id": "",
       "version_major": 2,
       "version_minor": 0
      },
      "text/plain": [
       "FloatProgress(value=0.0, bar_style='info', description='Progress:', layout=Layout(height='25px', width='50%'),…"
      ]
     },
     "metadata": {},
     "output_type": "display_data"
    },
    {
     "name": "stdout",
     "output_type": "stream",
     "text": [
      "+----+------------------+\n",
      "|year|        avg(stars)|\n",
      "+----+------------------+\n",
      "|2006|               4.0|\n",
      "|2007| 4.142857142857143|\n",
      "|2008|3.6470588235294117|\n",
      "|2009|3.7096774193548385|\n",
      "|2010|3.5510204081632653|\n",
      "|2011|3.8795180722891565|\n",
      "|2012|3.3628318584070795|\n",
      "|2013|3.2783505154639174|\n",
      "|2014|               3.3|\n",
      "|2015|3.3783783783783785|\n",
      "|2016|3.6991150442477876|\n",
      "|2017|3.6074074074074076|\n",
      "|2018|3.8481848184818483|\n",
      "|2019| 3.550387596899225|\n",
      "|2020| 3.475609756097561|\n",
      "|2021| 3.645390070921986|\n",
      "|2022|               5.0|\n",
      "+----+------------------+"
     ]
    }
   ],
   "source": [
    "# Check the distribution of stars for different years\n",
    "df_sug.groupBy('year').agg({'stars': 'mean'}).orderBy('year').show()"
   ]
  },
  {
   "cell_type": "code",
   "execution_count": null,
   "metadata": {
    "vscode": {
     "languageId": "python"
    }
   },
   "outputs": [
    {
     "data": {
      "application/vnd.jupyter.widget-view+json": {
       "model_id": "2590650273554f1da69d069a8a42b401",
       "version_major": 2,
       "version_minor": 0
      },
      "text/plain": [
       "VBox()"
      ]
     },
     "metadata": {},
     "output_type": "display_data"
    },
    {
     "data": {
      "application/vnd.jupyter.widget-view+json": {
       "model_id": "",
       "version_major": 2,
       "version_minor": 0
      },
      "text/plain": [
       "FloatProgress(value=0.0, bar_style='info', description='Progress:', layout=Layout(height='25px', width='50%'),…"
      ]
     },
     "metadata": {},
     "output_type": "display_data"
    },
    {
     "name": "stdout",
     "output_type": "stream",
     "text": [
      "+----+------------+\n",
      "|year|review_count|\n",
      "+----+------------+\n",
      "|2006|           1|\n",
      "|2007|           7|\n",
      "|2008|          17|\n",
      "|2009|          31|\n",
      "|2010|          49|\n",
      "|2011|          83|\n",
      "|2012|         113|\n",
      "|2013|          97|\n",
      "|2014|         160|\n",
      "|2015|         222|\n",
      "|2016|         226|\n",
      "|2017|         270|\n",
      "|2018|         303|\n",
      "|2019|         258|\n",
      "|2020|          82|\n",
      "|2021|         141|\n",
      "|2022|           4|\n",
      "+----+------------+"
     ]
    }
   ],
   "source": [
    "# Group by 'year' and count the reviews\n",
    "count_by_year = df_sug.groupBy('year').agg(F.count('text').alias('review_count'))\n",
    "count_by_year_sorted = count_by_year.orderBy('year')\n",
    "count_by_year_sorted.show()"
   ]
  },
  {
   "cell_type": "code",
   "execution_count": null,
   "metadata": {
    "vscode": {
     "languageId": "python"
    }
   },
   "outputs": [
    {
     "data": {
      "application/vnd.jupyter.widget-view+json": {
       "model_id": "305a411f3094485bbe571f5a8a4639e3",
       "version_major": 2,
       "version_minor": 0
      },
      "text/plain": [
       "VBox()"
      ]
     },
     "metadata": {},
     "output_type": "display_data"
    },
    {
     "data": {
      "application/vnd.jupyter.widget-view+json": {
       "model_id": "",
       "version_major": 2,
       "version_minor": 0
      },
      "text/plain": [
       "FloatProgress(value=0.0, bar_style='info', description='Progress:', layout=Layout(height='25px', width='50%'),…"
      ]
     },
     "metadata": {},
     "output_type": "display_data"
    }
   ],
   "source": [
    "df_sug.write.parquet(\"s3://myyelpdataset/EMR_Sentiment_Analysis/sugg/allyear/\", mode=\"overwrite\")"
   ]
  },
  {
   "cell_type": "code",
   "execution_count": null,
   "metadata": {
    "vscode": {
     "languageId": "python"
    }
   },
   "outputs": [
    {
     "data": {
      "application/vnd.jupyter.widget-view+json": {
       "model_id": "c3138b79a34f4d5a8aeace499a109c08",
       "version_major": 2,
       "version_minor": 0
      },
      "text/plain": [
       "VBox()"
      ]
     },
     "metadata": {},
     "output_type": "display_data"
    },
    {
     "data": {
      "application/vnd.jupyter.widget-view+json": {
       "model_id": "",
       "version_major": 2,
       "version_minor": 0
      },
      "text/plain": [
       "FloatProgress(value=0.0, bar_style='info', description='Progress:', layout=Layout(height='25px', width='50%'),…"
      ]
     },
     "metadata": {},
     "output_type": "display_data"
    },
    {
     "name": "stdout",
     "output_type": "stream",
     "text": [
      "+--------------------+-----+--------------------+----+\n",
      "|         business_id|stars|                text|year|\n",
      "+--------------------+-----+--------------------+----+\n",
      "|iwmW2mgcn2YdirXUH...|  5.0|The charbroiled o...|2021|\n",
      "|iwmW2mgcn2YdirXUH...|  5.0|Food was awesome ...|2021|\n",
      "|iwmW2mgcn2YdirXUH...|  2.0|We called for a r...|2021|\n",
      "|iwmW2mgcn2YdirXUH...|  5.0|Very good bourbon...|2021|\n",
      "|iwmW2mgcn2YdirXUH...|  1.0|Decided to have l...|2021|\n",
      "+--------------------+-----+--------------------+----+\n",
      "only showing top 5 rows"
     ]
    }
   ],
   "source": [
    "# Filter for years after 2020\n",
    "df_sug_filtered= df_sug.filter(df_top['year'] > 2020)\n",
    "df_sug_filtered.show(5)"
   ]
  },
  {
   "cell_type": "code",
   "execution_count": null,
   "metadata": {
    "vscode": {
     "languageId": "python"
    }
   },
   "outputs": [
    {
     "data": {
      "application/vnd.jupyter.widget-view+json": {
       "model_id": "c412162eb7dc484eb57d145b7b7c3515",
       "version_major": 2,
       "version_minor": 0
      },
      "text/plain": [
       "VBox()"
      ]
     },
     "metadata": {},
     "output_type": "display_data"
    },
    {
     "data": {
      "application/vnd.jupyter.widget-view+json": {
       "model_id": "",
       "version_major": 2,
       "version_minor": 0
      },
      "text/plain": [
       "FloatProgress(value=0.0, bar_style='info', description='Progress:', layout=Layout(height='25px', width='50%'),…"
      ]
     },
     "metadata": {},
     "output_type": "display_data"
    },
    {
     "name": "stdout",
     "output_type": "stream",
     "text": [
      "+--------------------+-----+--------------------+----+-------------------+---------+\n",
      "|         business_id|stars|                text|year|           polarity|sentiment|\n",
      "+--------------------+-----+--------------------+----+-------------------+---------+\n",
      "|iwmW2mgcn2YdirXUH...|  5.0|The charbroiled o...|2021|             0.1875| POSITIVE|\n",
      "|iwmW2mgcn2YdirXUH...|  5.0|Food was awesome ...|2021|0.37463474025974025| POSITIVE|\n",
      "|iwmW2mgcn2YdirXUH...|  2.0|We called for a r...|2021|0.39285714285714296| POSITIVE|\n",
      "|iwmW2mgcn2YdirXUH...|  5.0|Very good bourbon...|2021| 0.6616666666666666| POSITIVE|\n",
      "|iwmW2mgcn2YdirXUH...|  1.0|Decided to have l...|2021|0.02023809523809524| POSITIVE|\n",
      "+--------------------+-----+--------------------+----+-------------------+---------+\n",
      "only showing top 5 rows"
     ]
    }
   ],
   "source": [
    "# Apply sentiment analysis using TextBlob\n",
    "df_with_sentiment = df_sug_filtered.withColumn(\"polarity\", sentiment_udf(col(\"text\")))\n",
    "df_final = df_with_sentiment.withColumn(\"sentiment\", score_udf(col(\"polarity\")))\n",
    "\n",
    "# Show results\n",
    "df_final.show(5)"
   ]
  },
  {
   "cell_type": "code",
   "execution_count": null,
   "metadata": {
    "vscode": {
     "languageId": "python"
    }
   },
   "outputs": [
    {
     "data": {
      "application/vnd.jupyter.widget-view+json": {
       "model_id": "45bdac33020a4802b3f6db63b450159f",
       "version_major": 2,
       "version_minor": 0
      },
      "text/plain": [
       "VBox()"
      ]
     },
     "metadata": {},
     "output_type": "display_data"
    },
    {
     "data": {
      "application/vnd.jupyter.widget-view+json": {
       "model_id": "",
       "version_major": 2,
       "version_minor": 0
      },
      "text/plain": [
       "FloatProgress(value=0.0, bar_style='info', description='Progress:', layout=Layout(height='25px', width='50%'),…"
      ]
     },
     "metadata": {},
     "output_type": "display_data"
    }
   ],
   "source": [
    "df_final.write.option(\"header\", \"true\").mode(\"overwrite\").csv(\"s3://myyelpdataset/EMR_Sentiment_Analysis/sugg/prqt/\")"
   ]
  },
  {
   "cell_type": "code",
   "execution_count": null,
   "metadata": {
    "vscode": {
     "languageId": "python"
    }
   },
   "outputs": [
    {
     "data": {
      "application/vnd.jupyter.widget-view+json": {
       "model_id": "1bcaa5a337e44c61857bda624f298e4b",
       "version_major": 2,
       "version_minor": 0
      },
      "text/plain": [
       "VBox()"
      ]
     },
     "metadata": {},
     "output_type": "display_data"
    },
    {
     "data": {
      "application/vnd.jupyter.widget-view+json": {
       "model_id": "",
       "version_major": 2,
       "version_minor": 0
      },
      "text/plain": [
       "FloatProgress(value=0.0, bar_style='info', description='Progress:', layout=Layout(height='25px', width='50%'),…"
      ]
     },
     "metadata": {},
     "output_type": "display_data"
    }
   ],
   "source": [
    "df_final.write.parquet(\"s3://myyelpdataset/EMR_Sentiment_Analysis/sugg/prqt/\", mode=\"overwrite\")"
   ]
  },
  {
   "cell_type": "code",
   "execution_count": null,
   "metadata": {
    "vscode": {
     "languageId": "python"
    }
   },
   "outputs": [],
   "source": []
  }
 ],
 "metadata": {
  "kernelspec": {
   "display_name": "PySpark",
   "language": "",
   "name": "pysparkkernel"
  },
  "language_info": {
   "name": ""
  }
 },
 "nbformat": 4,
 "nbformat_minor": 4
}
